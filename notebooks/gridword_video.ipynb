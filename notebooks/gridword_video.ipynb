{
 "cells": [
  {
   "metadata": {
    "ExecuteTime": {
     "end_time": "2024-11-21T10:09:09.970022Z",
     "start_time": "2024-11-21T10:09:08.368469Z"
    }
   },
   "cell_type": "code",
   "source": [
    "import json\n",
    "from envs import GridWorldEnvCont, Position\n",
    "from policies import GWPolicy\n",
    "from envs.gridworld_env import GridWorldState\n",
    "from data_processors.gridworld_rbf import GWDataProcessorRBF"
   ],
   "id": "3ee736effc3b96b2",
   "outputs": [],
   "execution_count": 1
  },
  {
   "metadata": {
    "ExecuteTime": {
     "end_time": "2024-11-21T10:09:09.975201Z",
     "start_time": "2024-11-21T10:09:09.973100Z"
    }
   },
   "cell_type": "code",
   "source": [
    "def evaluate(env, policy, dp):\n",
    "    obs = env.state\n",
    "    obs = dp.transform(obs)\n",
    "\n",
    "    for i in range (env.horizon):\n",
    "        print(\"STEP: \", i)\n",
    "        action = policy.draw_action(obs)\n",
    "        obs, _, _, _ = env.step(action)\n",
    "        obs = dp.transform(obs)\n",
    "    env.reset()"
   ],
   "id": "5fdbe765dbaa7815",
   "outputs": [],
   "execution_count": 2
  },
  {
   "metadata": {
    "ExecuteTime": {
     "end_time": "2024-11-21T10:09:10.143607Z",
     "start_time": "2024-11-21T10:09:10.062871Z"
    }
   },
   "cell_type": "code",
   "source": [
    "path = '/Users/leonardo/Downloads/cpgpe_12000_gw_c_100_adam_p00025_d025_gw_pol_batch_100_reg_00001_risk_tc_p10_var_0025_a/cpgpe_12000_gw_c_100_adam_p00025_d025_gw_pol_batch_100_reg_00001_risk_tc_p10_var_0025_a_trial_0'\n",
    "with open(f'{path}/cpgpe_results.json', 'r') as f:\n",
    "    data = json.load(f)"
   ],
   "id": "7b68abcb9a9fc728",
   "outputs": [],
   "execution_count": 3
  },
  {
   "metadata": {
    "ExecuteTime": {
     "end_time": "2024-11-21T10:09:10.347971Z",
     "start_time": "2024-11-21T10:09:10.165783Z"
    }
   },
   "cell_type": "code",
   "source": [
    "horizon = 100\n",
    "gamma = 1.0\n",
    "\n",
    "env = GridWorldEnvCont(\n",
    "    horizon=horizon,\n",
    "    gamma=gamma,\n",
    "    grid_size=7,\n",
    "    reward_type=\"linear\",\n",
    "    render=True,\n",
    "    threshold=0.0,\n",
    "    use_costs=True,\n",
    "    dir=\"/Users/leonardo/Desktop/Thesis/MagicRL/images\",\n",
    "    sampling_args  = { \"n_samples\": 1, \"radius\": 0.1},\n",
    "    init_state = [0.5, 0.5]\n",
    "\n",
    ")\n",
    "\n",
    "pol = GWPolicy(\n",
    "    dim_state=env.state_dim,\n",
    "    thetas=data['best_rho'][0],\n",
    "    std_dev=0\n",
    ")\n",
    "\n",
    "basis = 5\n",
    "dp = GWDataProcessorRBF(num_basis=basis, grid_size=7, std_dev=0.75)"
   ],
   "id": "23617d3c86dbddfb",
   "outputs": [
    {
     "data": {
      "text/plain": [
       "<Figure size 640x480 with 0 Axes>"
      ]
     },
     "metadata": {},
     "output_type": "display_data"
    }
   ],
   "execution_count": 4
  },
  {
   "metadata": {
    "ExecuteTime": {
     "end_time": "2024-11-21T10:09:51.749067Z",
     "start_time": "2024-11-21T10:09:10.430277Z"
    }
   },
   "cell_type": "code",
   "source": "evaluate(env, pol, dp)",
   "id": "22fd15bd7fb51031",
   "outputs": [
    {
     "name": "stdout",
     "output_type": "stream",
     "text": [
      "STEP:  0\n",
      "STEP:  1\n",
      "STEP:  2\n",
      "STEP:  3\n",
      "STEP:  4\n",
      "STEP:  5\n",
      "STEP:  6\n",
      "STEP:  7\n",
      "STEP:  8\n",
      "STEP:  9\n",
      "STEP:  10\n",
      "STEP:  11\n",
      "STEP:  12\n",
      "STEP:  13\n",
      "STEP:  14\n",
      "STEP:  15\n",
      "STEP:  16\n",
      "STEP:  17\n",
      "STEP:  18\n",
      "STEP:  19\n",
      "STEP:  20\n",
      "STEP:  21\n",
      "STEP:  22\n",
      "STEP:  23\n",
      "STEP:  24\n",
      "STEP:  25\n",
      "STEP:  26\n",
      "STEP:  27\n",
      "STEP:  28\n",
      "STEP:  29\n",
      "STEP:  30\n",
      "STEP:  31\n",
      "STEP:  32\n",
      "STEP:  33\n",
      "STEP:  34\n",
      "STEP:  35\n",
      "STEP:  36\n",
      "STEP:  37\n",
      "STEP:  38\n",
      "STEP:  39\n",
      "STEP:  40\n",
      "STEP:  41\n",
      "STEP:  42\n",
      "STEP:  43\n",
      "STEP:  44\n",
      "STEP:  45\n",
      "STEP:  46\n",
      "STEP:  47\n",
      "STEP:  48\n",
      "STEP:  49\n",
      "STEP:  50\n",
      "STEP:  51\n",
      "STEP:  52\n",
      "STEP:  53\n",
      "STEP:  54\n",
      "STEP:  55\n",
      "STEP:  56\n",
      "STEP:  57\n",
      "STEP:  58\n",
      "STEP:  59\n",
      "STEP:  60\n",
      "STEP:  61\n",
      "STEP:  62\n",
      "STEP:  63\n",
      "STEP:  64\n",
      "STEP:  65\n",
      "STEP:  66\n",
      "STEP:  67\n",
      "STEP:  68\n",
      "STEP:  69\n",
      "STEP:  70\n",
      "STEP:  71\n",
      "STEP:  72\n",
      "STEP:  73\n",
      "STEP:  74\n",
      "STEP:  75\n",
      "STEP:  76\n",
      "STEP:  77\n",
      "STEP:  78\n",
      "STEP:  79\n",
      "STEP:  80\n",
      "STEP:  81\n",
      "STEP:  82\n",
      "STEP:  83\n",
      "STEP:  84\n",
      "STEP:  85\n",
      "STEP:  86\n",
      "STEP:  87\n",
      "STEP:  88\n",
      "STEP:  89\n",
      "STEP:  90\n",
      "STEP:  91\n",
      "STEP:  92\n",
      "STEP:  93\n",
      "STEP:  94\n",
      "STEP:  95\n",
      "STEP:  96\n",
      "STEP:  97\n",
      "STEP:  98\n",
      "STEP:  99\n"
     ]
    },
    {
     "data": {
      "text/plain": [
       "<Figure size 640x480 with 0 Axes>"
      ]
     },
     "metadata": {},
     "output_type": "display_data"
    }
   ],
   "execution_count": 5
  },
  {
   "metadata": {},
   "cell_type": "code",
   "outputs": [],
   "execution_count": null,
   "source": "",
   "id": "42ac70e9b216b81d"
  }
 ],
 "metadata": {
  "kernelspec": {
   "display_name": "Python 3",
   "language": "python",
   "name": "python3"
  },
  "language_info": {
   "codemirror_mode": {
    "name": "ipython",
    "version": 2
   },
   "file_extension": ".py",
   "mimetype": "text/x-python",
   "name": "python",
   "nbconvert_exporter": "python",
   "pygments_lexer": "ipython2",
   "version": "2.7.6"
  }
 },
 "nbformat": 4,
 "nbformat_minor": 5
}
